{
  "nbformat": 4,
  "nbformat_minor": 0,
  "metadata": {
    "colab": {
      "name": "Detecting Changes in Sentinel-1 Imagery (Part 1)",
      "provenance": [],
      "collapsed_sections": [],
      "include_colab_link": true
    },
    "kernelspec": {
      "name": "python3",
      "display_name": "Python 3"
    }
  },
  "cells": [
    {
      "cell_type": "markdown",
      "metadata": {
        "id": "view-in-github",
        "colab_type": "text"
      },
      "source": [
        "<a href=\"https://colab.research.google.com/github/raruggie/GRRIEn/blob/main/tutorials/detecting-changes-in-sentinel-1-imagery-pt-1/index.ipynb\" target=\"_parent\"><img src=\"https://colab.research.google.com/assets/colab-badge.svg\" alt=\"Open In Colab\"/></a>"
      ]
    },
    {
      "cell_type": "code",
      "metadata": {
        "id": "8kdsGkYJXXKc"
      },
      "source": [
        "#@title Copyright 2020 The Earth Engine Community Authors { display-mode: \"form\" }\n",
        "#\n",
        "# Licensed under the Apache License, Version 2.0 (the \"License\");\n",
        "# you may not use this file except in compliance with the License.\n",
        "# You may obtain a copy of the License at\n",
        "#\n",
        "# https://www.apache.org/licenses/LICENSE-2.0\n",
        "#\n",
        "# Unless required by applicable law or agreed to in writing, software\n",
        "# distributed under the License is distributed on an \"AS IS\" BASIS,\n",
        "# WITHOUT WARRANTIES OR CONDITIONS OF ANY KIND, either express or implied.\n",
        "# See the License for the specific language governing permissions and\n",
        "# limitations under the License."
      ],
      "execution_count": null,
      "outputs": []
    },
    {
      "cell_type": "markdown",
      "metadata": {
        "id": "LNiZKg4sl78g"
      },
      "source": [
        "# Detecting Changes in Sentinel-1 Imagery (Part 1)\n",
        "Author: mortcanty\n",
        "\n",
        "In this tutorial we will analyze synthetic aperture radar (SAR) imagery  in order to detect statistically significant changes on the Earth surface. As the adverb \"statistically\" hints, we will need a basic understanding of the statistical properties of SAR imagery in order to proceed, and the adjective \"significant\" implies that we  learn the fundamentals of hypothesis testing. In particular we will be concerned with time series of the dual polarimetric intensity Sentinel-1 SAR images in the GEE archive. The tutorial is in four parts:\n",
        "\n",
        "- 1. Single and multi-look image statistics\n",
        "- 2. Hypothesis testing \n",
        "- 3. Multitemporal change detection\n",
        "- 4. Applications\n",
        "\n",
        "Much of the material is based on Chapters 5 and 9 of my text [Image Analysis, Classification and Change Detection in Remote Sensing](https://www.taylorfrancis.com/books/9780429464348), and the most relevant original publications are [Conradsen et al. (2003)](https://ieeexplore.ieee.org/document/1183688),  [Conradsen et al. (2016)](https://ieeexplore.ieee.org/document/7398022) and  [Canty et al. (2020)](https://www.mdpi.com/2072-4292/12/1/46).\n"
      ]
    },
    {
      "cell_type": "markdown",
      "metadata": {
        "id": "0YbuSTjRav14"
      },
      "source": [
        "## Context"
      ]
    },
    {
      "cell_type": "markdown",
      "metadata": {
        "id": "xJiEvqGsalrI"
      },
      "source": [
        "The [Sentinel-1 missions of the ESA]( https://sentinel.esa.int/web/sentinel/missions/sentinel-1) provide a fantastic source of weather-independent, day-or-night Earth observation data with repeat times of the order of 6 days. The Google Earth Engine team monitor and ingest the imagery data almost as fast as they are produced, thus removing the burden from the user of searching, downloading, pre-processing and georeferencing. The JavaScript and Python API's to GEE can then be easily programmed to analyze time series of Sentinel-1 acquisitions virtually anywhere on the globe. Detected changes, both short- and long-term, can be related to landscape dynamics and human activity.\n",
        "\n"
      ]
    },
    {
      "cell_type": "markdown",
      "metadata": {
        "id": "zbzxAsmgbPgT"
      },
      "source": [
        "## Prerequisites"
      ]
    },
    {
      "cell_type": "markdown",
      "metadata": {
        "id": "90jejz89a7yR"
      },
      "source": [
        "A basic knowledge of the Sentinel-1 SAR platform is assumed on the part of the reader,  at the level of the [ESA User Guides](https://sentinel.esa.int/web/sentinel/user-guides/sentinel-1-sar). The reader should also be familiar with ordinary Python syntax and also with the GEE API (Python or JavaScript, it doesn't matter as they are almost identical).\n",
        "We will take a relaxed view of statistical formalism, without clearly distinguishing random variables from their realizations (measurements). We assume that the reader has, at least, an intuitive understanding of the mean and variance of independent measurements $x_i$ of a quantity $x$,\n",
        "\n",
        "$$\n",
        "{\\rm mean}(x) = {1\\over n}\\sum_{i=1}^n x_i\n",
        "$$\n",
        "$$\n",
        "{\\rm var}(x) = {1\\over n}\\sum_{i=1}^n(x_i-{\\rm mean}(x))^2\n",
        "$$\n",
        "\n",
        "and that the measurements can be described by a probability density function\n",
        "$p(x)$ with\n",
        "\n",
        "$$\n",
        "\\quad {\\rm mean}(x) = \\int_{-\\infty}^\\infty x p(x)dx,\\quad {\\rm var}(x) = \\int_{-\\infty}^\\infty (x-{\\rm mean}(x))^2 p(x)dx\n",
        "$$\n",
        "and\n",
        "$$\n",
        "\\quad \\int_{-\\infty}^\\infty p(x)dx = 1.\n",
        "$$\n",
        "\n",
        "More statistics will be introduced as needed.\n",
        "A highly recommended reference is [Freund's Mathematical Statistics](https://www.amazon.de/John-Freunds-Mathematical-Statistics/dp/013123613X/ref=sr_1_8?__mk_de_DE=%C3%85M%C3%85%C5%BD%C3%95%C3%91&dchild=1&keywords=freund+mathematical+statistics&qid=1597837319&sr=8-8)."
      ]
    },
    {
      "cell_type": "markdown",
      "metadata": {
        "id": "l18M9_r5XmAQ"
      },
      "source": [
        "\n",
        "## Part 1. Single and multi-look image statistics\n",
        "\n"
      ]
    },
    {
      "cell_type": "markdown",
      "metadata": {
        "id": "U7i55vr_aKCB"
      },
      "source": [
        "### Run me first\n",
        "\n",
        "Run the following cell to initialize the API. The output will contain instructions on how to grant this notebook access to Earth Engine using your account."
      ]
    },
    {
      "cell_type": "code",
      "metadata": {
        "id": "XeFsiSp2aDL6",
        "outputId": "30e2eeec-dec9-4053-a721-2d029890b077",
        "colab": {
          "base_uri": "https://localhost:8080/"
        }
      },
      "source": [
        "import ee\n",
        " \n",
        "# Trigger the authentication flow.\n",
        "ee.Authenticate()\n",
        " \n",
        "# Initialize the library.\n",
        "ee.Initialize()"
      ],
      "execution_count": null,
      "outputs": [
        {
          "output_type": "stream",
          "name": "stdout",
          "text": [
            "To authorize access needed by Earth Engine, open the following URL in a web browser and follow the instructions. If the web browser does not start automatically, please manually browse the URL below.\n",
            "\n",
            "    https://code.earthengine.google.com/client-auth?scopes=https%3A//www.googleapis.com/auth/earthengine%20https%3A//www.googleapis.com/auth/devstorage.full_control&request_id=aW82LsA4b-mSumUbzZzAL_YLzf778iJLp9EKowIxTe8&tc=nTyWuxwUBl7Ykmn091JySHLnzkz0afzJSY_QHala14g&cc=qjw19LP5L-JXtZM-ass4ImoXk3BAPQ6bvFqSO1IDrNc\n",
            "\n",
            "The authorization workflow will generate a code, which you should paste in the box below.\n",
            "Enter verification code: 4/1AfgeXvtWqeVHYMfH4zZkxM6YxXW_G40CWmCWYkhieZStUU6AkpP252grYm4\n",
            "\n",
            "Successfully saved authorization token.\n"
          ]
        }
      ]
    },
    {
      "cell_type": "markdown",
      "metadata": {
        "id": "VOf_UnIcZKBJ"
      },
      "source": [
        "### Datasets and Python modules\n",
        "Two [datasets](https://developers.google.com/earth-engine/datasets/catalog/COPERNICUS_S1_GRD) will be used in the tutorial:\n",
        "\n",
        "- COPERNICUS/S1_GRD_FLOAT\n",
        "    - Sentinel-1 ground range detected images\n",
        "- COPERNICUS/S1_GRD  \n",
        "    - Sentinel-1 ground range detected images converted to decibels\n",
        "\n",
        "The following cell imports some python modules which we will be using as we go along,  and also enables inline graphics."
      ]
    },
    {
      "cell_type": "code",
      "metadata": {
        "id": "JR0cxCpeIxoY"
      },
      "source": [
        "import matplotlib.pyplot as plt\n",
        "import numpy as np\n",
        "from scipy.stats import norm, gamma, f, chi2\n",
        "import IPython.display as disp\n",
        "%matplotlib inline"
      ],
      "execution_count": null,
      "outputs": []
    },
    {
      "cell_type": "markdown",
      "metadata": {
        "id": "eelxHh2qc6xg"
      },
      "source": [
        "And in order to make use of interactive maps, we import the _folium_ package:"
      ]
    },
    {
      "cell_type": "code",
      "metadata": {
        "id": "VIiyf6azf4mU"
      },
      "source": [
        "# Import the Folium library.\n",
        "import folium\n",
        "\n",
        "# Define a method for displaying Earth Engine image tiles to folium map.\n",
        "def add_ee_layer(self, ee_image_object, vis_params, name):\n",
        "  map_id_dict = ee.Image(ee_image_object).getMapId(vis_params)\n",
        "  folium.raster_layers.TileLayer(\n",
        "    tiles = map_id_dict['tile_fetcher'].url_format,\n",
        "    attr = 'Map Data &copy; <a href=\"https://earthengine.google.com/\">Google Earth Engine</a>',\n",
        "    name = name,\n",
        "    overlay = True,\n",
        "    control = True\n",
        "  ).add_to(self)\n",
        "\n",
        "# Add EE drawing method to folium.\n",
        "folium.Map.add_ee_layer = add_ee_layer"
      ],
      "execution_count": null,
      "outputs": []
    },
    {
      "cell_type": "markdown",
      "metadata": {
        "id": "r-GuxE6lJHHx"
      },
      "source": [
        "### A Sentinel-1 image\n",
        "\n",
        "Let's start work by grabbing a spatial subset of a Sentinel-1 image from the archive. We'll define an region of interest (AOI) as the long-lat corners of a rectangle over the Frankfurt Airport. A convenient way to do this is with the [geojson.io](http://geojson.io/#map=2/20.0/0.0) website, from which we can cut and paste the corresponding GeoJSON object description."
      ]
    },
    {
      "cell_type": "code",
      "metadata": {
        "id": "Hww9JAK0JgFm"
      },
      "source": [
        "geoJSON = {\n",
        "  \"type\": \"FeatureCollection\",\n",
        "  \"features\": [\n",
        "    {\n",
        "      \"type\": \"Feature\",\n",
        "      \"properties\": {},\n",
        "      \"geometry\": {\n",
        "        \"coordinates\": [\n",
        "          [\n",
        "            [\n",
        "              -73.31939702284171,\n",
        "              44.15031909900094\n",
        "            ],\n",
        "            [\n",
        "              -73.31499969430045,\n",
        "              44.150539958983614\n",
        "            ],\n",
        "            [\n",
        "              -73.3151316141566,\n",
        "              44.15101322759219\n",
        "            ],\n",
        "            [\n",
        "              -73.31442804159038,\n",
        "              44.151107880858405\n",
        "            ],\n",
        "            [\n",
        "              -73.3146479080171,\n",
        "              44.15199130402354\n",
        "            ],\n",
        "            [\n",
        "              -73.31526353401328,\n",
        "              44.15240146028401\n",
        "            ],\n",
        "            [\n",
        "              -73.31605505315063,\n",
        "              44.15230680909241\n",
        "            ],\n",
        "            [\n",
        "              -73.31631889286288,\n",
        "              44.153474163180505\n",
        "            ],\n",
        "            [\n",
        "              -73.31517558744216,\n",
        "              44.153663461667435\n",
        "            ],\n",
        "            [\n",
        "              -73.31561532029615,\n",
        "              44.15543021826613\n",
        "            ],\n",
        "            [\n",
        "              -73.31675862571684,\n",
        "              44.155998093082275\n",
        "            ],\n",
        "            [\n",
        "              -73.31715438528579,\n",
        "              44.155998093082275\n",
        "            ],\n",
        "            [\n",
        "              -73.31737425171306,\n",
        "              44.15498853407544\n",
        "            ],\n",
        "            [\n",
        "              -73.3179019311376,\n",
        "              44.15473614162491\n",
        "            ],\n",
        "            [\n",
        "              -73.31768206471087,\n",
        "              44.153821209942976\n",
        "            ],\n",
        "            [\n",
        "              -73.3179019311376,\n",
        "              44.15334796385173\n",
        "            ],\n",
        "            [\n",
        "              -73.31886934341718,\n",
        "              44.15284316383796\n",
        "            ],\n",
        "            [\n",
        "              -73.31979278241064,\n",
        "              44.1520228546064\n",
        "            ],\n",
        "            [\n",
        "              -73.31939702284171,\n",
        "              44.15031909900094\n",
        "            ]\n",
        "          ]\n",
        "        ],\n",
        "        \"type\": \"Polygon\"\n",
        "      }\n",
        "    },\n",
        "    {\n",
        "      \"type\": \"Feature\",\n",
        "      \"properties\": {},\n",
        "      \"geometry\": {\n",
        "        \"coordinates\": [\n",
        "          [\n",
        "            [\n",
        "              -73.3582447745077,\n",
        "              44.143810086322816\n",
        "            ],\n",
        "            [\n",
        "              -73.35799464344306,\n",
        "              44.14345635041016\n",
        "            ],\n",
        "            [\n",
        "              -73.35772490610948,\n",
        "              44.143241279968976\n",
        "            ],\n",
        "            [\n",
        "              -73.35715546062814,\n",
        "              44.143198265786594\n",
        "            ],\n",
        "            [\n",
        "              -73.35711050440575,\n",
        "              44.14287565842099\n",
        "            ],\n",
        "            [\n",
        "              -73.35678082544304,\n",
        "              44.14277887586772\n",
        "            ],\n",
        "            [\n",
        "              -73.356900708702,\n",
        "              44.142402497762504\n",
        "            ],\n",
        "            [\n",
        "              -73.35691569410945,\n",
        "              44.14207988604832\n",
        "            ],\n",
        "            [\n",
        "              -73.35684076707214,\n",
        "              44.14184330300441\n",
        "            ],\n",
        "            [\n",
        "              -73.35685575247962,\n",
        "              44.14162822668689\n",
        "            ],\n",
        "            [\n",
        "              -73.35720041685052,\n",
        "              44.1414991805205\n",
        "            ],\n",
        "            [\n",
        "              -73.35751511040576,\n",
        "              44.14128410294927\n",
        "            ],\n",
        "            [\n",
        "              -73.35773989151696,\n",
        "              44.140595849457185\n",
        "            ],\n",
        "            [\n",
        "              -73.35785977477666,\n",
        "              44.14006889995392\n",
        "            ],\n",
        "            [\n",
        "              -73.35717044603558,\n",
        "              44.139746275487965\n",
        "            ],\n",
        "            [\n",
        "              -73.35066677921822,\n",
        "              44.1403700145315\n",
        "            ],\n",
        "            [\n",
        "              -73.35101062208136,\n",
        "              44.142072309106425\n",
        "            ],\n",
        "            [\n",
        "              -73.3512204177851,\n",
        "              44.143212196086125\n",
        "            ],\n",
        "            [\n",
        "              -73.35270397311872,\n",
        "              44.14305089266176\n",
        "            ],\n",
        "            [\n",
        "              -73.35306684447445,\n",
        "              44.145149409871834\n",
        "            ],\n",
        "            [\n",
        "              -73.35327662997008,\n",
        "              44.14668946420335\n",
        "            ],\n",
        "            [\n",
        "              -73.3535313818962,\n",
        "              44.1480658210873\n",
        "            ],\n",
        "            [\n",
        "              -73.35230257848795,\n",
        "              44.14815184232668\n",
        "            ],\n",
        "            [\n",
        "              -73.3525123741917,\n",
        "              44.14942064104943\n",
        "            ],\n",
        "            [\n",
        "              -73.3560964692142,\n",
        "              44.14912893206903\n",
        "            ],\n",
        "            [\n",
        "              -73.35819442625233,\n",
        "              44.148935387307944\n",
        "            ],\n",
        "            [\n",
        "              -73.35862900306724,\n",
        "              44.14884936720992\n",
        "            ],\n",
        "            [\n",
        "              -73.35870393010455,\n",
        "              44.14861281129507\n",
        "            ],\n",
        "            [\n",
        "              -73.35876387173367,\n",
        "              44.14820421248106\n",
        "            ],\n",
        "            [\n",
        "              -73.35892871121575,\n",
        "              44.148021417359104\n",
        "            ],\n",
        "            [\n",
        "              -73.359243404771,\n",
        "              44.147935395929636\n",
        "            ],\n",
        "            [\n",
        "              -73.35961803995684,\n",
        "              44.14784937437426\n",
        "            ],\n",
        "            [\n",
        "              -73.35984282106803,\n",
        "              44.14772034180669\n",
        "            ],\n",
        "            [\n",
        "              -73.35987818391523,\n",
        "              44.14697151244681\n",
        "            ],\n",
        "            [\n",
        "              -73.35987818391523,\n",
        "              44.14645537280754\n",
        "            ],\n",
        "            [\n",
        "              -73.35996809635998,\n",
        "              44.145724167260084\n",
        "            ],\n",
        "            [\n",
        "              -73.3600879796197,\n",
        "              44.14497144620606\n",
        "            ],\n",
        "            [\n",
        "              -73.36011795043387,\n",
        "              44.14428323569982\n",
        "            ],\n",
        "            [\n",
        "              -73.359248796804,\n",
        "              44.143831593195046\n",
        "            ],\n",
        "            [\n",
        "              -73.3582447745077,\n",
        "              44.143810086322816\n",
        "            ]\n",
        "          ]\n",
        "        ],\n",
        "        \"type\": \"Polygon\"\n",
        "      }\n",
        "    }\n",
        "  ]\n",
        "}"
      ],
      "execution_count": 25,
      "outputs": []
    },
    {
      "cell_type": "markdown",
      "metadata": {
        "id": "VySnRWy3K0Jk"
      },
      "source": [
        "Note that the last and first corners are identical, indicating closure of the polygon. We have to bore down into the GeoJSON structure to get the geometry coordinates, then create an _ee.Geometry()_ object:"
      ]
    },
    {
      "cell_type": "code",
      "metadata": {
        "id": "PRWSgszXTjFw"
      },
      "source": [
        "coords_DC = geoJSON['features'][0]['geometry']['coordinates']\n",
        "coords_AHS = geoJSON['features'][1]['geometry']['coordinates']\n",
        "aoi_DC = ee.Geometry.Polygon(coords_DC)\n",
        "aoi_AHS = ee.Geometry.Polygon(coords_AHS)"
      ],
      "execution_count": 55,
      "outputs": []
    },
    {
      "cell_type": "markdown",
      "metadata": {
        "id": "C6rM63_lTqJ9"
      },
      "source": [
        "Next, we filter the S1 archive to get an image over the _aoi_ acquired sometime in August, 2020. Any old image will do fine, so we won't bother to specify the orbit number or whether we want the ASCENDING or DESCENDING node. If we don't specify the instrument mode or resolution, we get _IW_ (interferometric wide swath) mode and $10\\times 10\\ m^2$ pixels by default. For convenience we grab both decibel and float versions:"
      ]
    },
    {
      "cell_type": "markdown",
      "source": [
        "The manure application dates:\n",
        "AHS: 10/16/18, 10/6/19, 10/6/20\n",
        "DC: 10/12/19, 9/28/20"
      ],
      "metadata": {
        "id": "ueY7mFZqWgIy"
      }
    },
    {
      "cell_type": "code",
      "source": [
        "# start with S2 at AHS in 2018 to replicate Dodin et al. 2021\n",
        "S2_AHS_2018_stack = ee.ImageCollection('COPERNICUS/S2_SR').filterBounds(aoi_AHS).filterDate(ee.Date('2015-10-01'), ee.Date('2020-10-31')) "
      ],
      "metadata": {
        "id": "E7Ghpp7WryV9"
      },
      "execution_count": 128,
      "outputs": []
    },
    {
      "cell_type": "code",
      "source": [
        "# print image\n",
        "\n",
        "# select bands\n",
        "img = S2_AHS_2018_stack.first()\\\n",
        "  .select(['B4', 'B5', 'B6'])\n",
        "\n",
        "# Get 2-d pixel array for AOI - returns feature with 2-D pixel array as property per band.\n",
        "band_arrs = img.sampleRectangle(region=aoi_AHS)\n",
        "\n",
        "# Get individual band arrays.\n",
        "band_arr_b4 = band_arrs.get('B4')\n",
        "band_arr_b5 = band_arrs.get('B5')\n",
        "band_arr_b6 = band_arrs.get('B6')\n",
        "\n",
        "# Transfer the arrays from server to client and cast as np array.\n",
        "np_arr_b4 = np.array(band_arr_b4.getInfo())\n",
        "np_arr_b5 = np.array(band_arr_b5.getInfo())\n",
        "np_arr_b6 = np.array(band_arr_b6.getInfo())\n",
        "print(np_arr_b4.shape)\n",
        "print(np_arr_b5.shape)\n",
        "print(np_arr_b6.shape)\n",
        "\n",
        "# Expand the dimensions of the images so they can be concatenated into 3-D.\n",
        "np_arr_b4 = np.expand_dims(np_arr_b4, 2)\n",
        "np_arr_b5 = np.expand_dims(np_arr_b5, 2)\n",
        "np_arr_b6 = np.expand_dims(np_arr_b6, 2)\n",
        "print(np_arr_b4.shape)\n",
        "print(np_arr_b5.shape)\n",
        "print(np_arr_b6.shape)\n",
        "\n",
        "# Stack the individual bands to make a 3-D array.\n",
        "rgb_img = np.concatenate((np_arr_b6, np_arr_b5, np_arr_b4), 2)\n",
        "print(rgb_img.shape)\n",
        "\n",
        "# Scale the data to [0, 255] to show as an RGB image.\n",
        "rgb_img_test = (255*((rgb_img - 100)/3500)).astype('uint8')\n",
        "plt.imshow(rgb_img_test)\n",
        "plt.show()\n"
      ],
      "metadata": {
        "colab": {
          "base_uri": "https://localhost:8080/",
          "height": 255
        },
        "id": "zUnbMewgscgt",
        "outputId": "abd9c19b-ec9c-425e-a9f8-534a926a45c9"
      },
      "execution_count": 130,
      "outputs": [
        {
          "output_type": "stream",
          "name": "stdout",
          "text": [
            "S2_AHS_2018_stack {'type': 'Image', 'bands': [{'id': 'B1', 'data_type': {'type': 'PixelType', 'precision': 'int', 'min': 0, 'max': 65535}, 'dimensions': [1830, 1830], 'crs': 'EPSG:32618', 'crs_transform': [60, 0, 600000, 0, -60, 4900020]}, {'id': 'B2', 'data_type': {'type': 'PixelType', 'precision': 'int', 'min': 0, 'max': 65535}, 'dimensions': [10980, 10980], 'crs': 'EPSG:32618', 'crs_transform': [10, 0, 600000, 0, -10, 4900020]}, {'id': 'B3', 'data_type': {'type': 'PixelType', 'precision': 'int', 'min': 0, 'max': 65535}, 'dimensions': [10980, 10980], 'crs': 'EPSG:32618', 'crs_transform': [10, 0, 600000, 0, -10, 4900020]}, {'id': 'B4', 'data_type': {'type': 'PixelType', 'precision': 'int', 'min': 0, 'max': 65535}, 'dimensions': [10980, 10980], 'crs': 'EPSG:32618', 'crs_transform': [10, 0, 600000, 0, -10, 4900020]}, {'id': 'B5', 'data_type': {'type': 'PixelType', 'precision': 'int', 'min': 0, 'max': 65535}, 'dimensions': [5490, 5490], 'crs': 'EPSG:32618', 'crs_transform': [20, 0, 600000, 0, -20, 4900020]}, {'id': 'B6', 'data_type': {'type': 'PixelType', 'precision': 'int', 'min': 0, 'max': 65535}, 'dimensions': [5490, 5490], 'crs': 'EPSG:32618', 'crs_transform': [20, 0, 600000, 0, -20, 4900020]}, {'id': 'B7', 'data_type': {'type': 'PixelType', 'precision': 'int', 'min': 0, 'max': 65535}, 'dimensions': [5490, 5490], 'crs': 'EPSG:32618', 'crs_transform': [20, 0, 600000, 0, -20, 4900020]}, {'id': 'B8', 'data_type': {'type': 'PixelType', 'precision': 'int', 'min': 0, 'max': 65535}, 'dimensions': [10980, 10980], 'crs': 'EPSG:32618', 'crs_transform': [10, 0, 600000, 0, -10, 4900020]}, {'id': 'B8A', 'data_type': {'type': 'PixelType', 'precision': 'int', 'min': 0, 'max': 65535}, 'dimensions': [5490, 5490], 'crs': 'EPSG:32618', 'crs_transform': [20, 0, 600000, 0, -20, 4900020]}, {'id': 'B9', 'data_type': {'type': 'PixelType', 'precision': 'int', 'min': 0, 'max': 65535}, 'dimensions': [1830, 1830], 'crs': 'EPSG:32618', 'crs_transform': [60, 0, 600000, 0, -60, 4900020]}, {'id': 'B11', 'data_type': {'type': 'PixelType', 'precision': 'int', 'min': 0, 'max': 65535}, 'dimensions': [5490, 5490], 'crs': 'EPSG:32618', 'crs_transform': [20, 0, 600000, 0, -20, 4900020]}, {'id': 'B12', 'data_type': {'type': 'PixelType', 'precision': 'int', 'min': 0, 'max': 65535}, 'dimensions': [5490, 5490], 'crs': 'EPSG:32618', 'crs_transform': [20, 0, 600000, 0, -20, 4900020]}, {'id': 'AOT', 'data_type': {'type': 'PixelType', 'precision': 'int', 'min': 0, 'max': 65535}, 'dimensions': [10980, 10980], 'crs': 'EPSG:32618', 'crs_transform': [10, 0, 600000, 0, -10, 4900020]}, {'id': 'WVP', 'data_type': {'type': 'PixelType', 'precision': 'int', 'min': 0, 'max': 65535}, 'dimensions': [10980, 10980], 'crs': 'EPSG:32618', 'crs_transform': [10, 0, 600000, 0, -10, 4900020]}, {'id': 'SCL', 'data_type': {'type': 'PixelType', 'precision': 'int', 'min': 0, 'max': 255}, 'dimensions': [5490, 5490], 'crs': 'EPSG:32618', 'crs_transform': [20, 0, 600000, 0, -20, 4900020]}, {'id': 'TCI_R', 'data_type': {'type': 'PixelType', 'precision': 'int', 'min': 0, 'max': 255}, 'dimensions': [10980, 10980], 'crs': 'EPSG:32618', 'crs_transform': [10, 0, 600000, 0, -10, 4900020]}, {'id': 'TCI_G', 'data_type': {'type': 'PixelType', 'precision': 'int', 'min': 0, 'max': 255}, 'dimensions': [10980, 10980], 'crs': 'EPSG:32618', 'crs_transform': [10, 0, 600000, 0, -10, 4900020]}, {'id': 'TCI_B', 'data_type': {'type': 'PixelType', 'precision': 'int', 'min': 0, 'max': 255}, 'dimensions': [10980, 10980], 'crs': 'EPSG:32618', 'crs_transform': [10, 0, 600000, 0, -10, 4900020]}, {'id': 'MSK_CLDPRB', 'data_type': {'type': 'PixelType', 'precision': 'int', 'min': 0, 'max': 255}, 'dimensions': [5490, 5490], 'crs': 'EPSG:32618', 'crs_transform': [20, 0, 600000, 0, -20, 4900020]}, {'id': 'MSK_SNWPRB', 'data_type': {'type': 'PixelType', 'precision': 'int', 'min': 0, 'max': 255}, 'dimensions': [5490, 5490], 'crs': 'EPSG:32618', 'crs_transform': [20, 0, 600000, 0, -20, 4900020]}, {'id': 'QA10', 'data_type': {'type': 'PixelType', 'precision': 'int', 'min': 0, 'max': 65535}, 'dimensions': [10980, 10980], 'crs': 'EPSG:32618', 'crs_transform': [10, 0, 600000, 0, -10, 4900020]}, {'id': 'QA20', 'data_type': {'type': 'PixelType', 'precision': 'int', 'min': 0, 'max': 4294967295}, 'dimensions': [5490, 5490], 'crs': 'EPSG:32618', 'crs_transform': [20, 0, 600000, 0, -20, 4900020]}, {'id': 'QA60', 'data_type': {'type': 'PixelType', 'precision': 'int', 'min': 0, 'max': 65535}, 'dimensions': [1830, 1830], 'crs': 'EPSG:32618', 'crs_transform': [60, 0, 600000, 0, -60, 4900020]}], 'id': 'COPERNICUS/S2_SR/20181214T154641_20181214T154636_T18TXP', 'version': 1557025280319697, 'properties': {'DATATAKE_IDENTIFIER': 'GS2A_20181214T154641_018169_N02.11', 'AOT_RETRIEVAL_ACCURACY': 0, 'SPACECRAFT_NAME': 'Sentinel-2A', 'SATURATED_DEFECTIVE_PIXEL_PERCENTAGE': 0, 'MEAN_INCIDENCE_AZIMUTH_ANGLE_B8A': 106.203805184, 'CLOUD_SHADOW_PERCENTAGE': 0, 'MEAN_SOLAR_AZIMUTH_ANGLE': 166.126290107, 'system:footprint': {'type': 'LinearRing', 'coordinates': [[-72.41637560133303, 43.23573172566412], [-72.41630760407027, 43.23576323198386], [-72.39516503500343, 43.729523721565634], [-72.37347861970292, 44.22321264613885], [-72.37352780304761, 44.22325526237818], [-72.3735716669393, 44.223304816508694], [-73.70995207269098, 44.24622278598115], [-73.70999392561573, 44.246218132458516], [-73.7100221842964, 44.246208406808144], [-73.71457703464215, 44.24409902851086], [-73.71460254447707, 44.24408337451326], [-73.7146203940877, 44.24406480761718], [-73.7301182558933, 44.222620014079105], [-73.7495197164932, 44.15799094523377], [-73.7589110749429, 43.70817795929431], [-73.7680872028884, 43.258336694075865], [-73.76803782800101, 43.25829471175403], [-73.76799348036452, 43.258245692680966], [-72.41643402659025, 43.235696484984764], [-72.41637560133303, 43.23573172566412]]}, 'VEGETATION_PERCENTAGE': 0, 'SOLAR_IRRADIANCE_B12': 85.25, 'SOLAR_IRRADIANCE_B10': 367.15, 'SENSOR_QUALITY': 'PASSED', 'SOLAR_IRRADIANCE_B11': 245.59, 'GENERATION_TIME': 1544811045000, 'SOLAR_IRRADIANCE_B8A': 955.32, 'FORMAT_CORRECTNESS': 'PASSED', 'CLOUD_COVERAGE_ASSESSMENT': 98.13976, 'THIN_CIRRUS_PERCENTAGE': 0.274622, 'system:time_end': 1544802655000, 'WATER_VAPOUR_RETRIEVAL_ACCURACY': 0, 'system:time_start': 1544802655000, 'DATASTRIP_ID': 'S2A_OPER_MSI_L2A_DS_SGS__20181214T181045_S20181214T154636_N02.11', 'PROCESSING_BASELINE': '02.11', 'SENSING_ORBIT_NUMBER': 11, 'NODATA_PIXEL_PERCENTAGE': 0.168238, 'SENSING_ORBIT_DIRECTION': 'DESCENDING', 'GENERAL_QUALITY': 'PASSED', 'GRANULE_ID': 'L2A_T18TXP_A018169_20181214T154636', 'REFLECTANCE_CONVERSION_CORRECTION': 1.03145408312, 'MEDIUM_PROBA_CLOUDS_PERCENTAGE': 1.14539, 'MEAN_INCIDENCE_AZIMUTH_ANGLE_B8': 105.265148404, 'DATATAKE_TYPE': 'INS-NOBS', 'MEAN_INCIDENCE_AZIMUTH_ANGLE_B9': 106.413058699, 'MEAN_INCIDENCE_AZIMUTH_ANGLE_B6': 105.94311196, 'MEAN_INCIDENCE_AZIMUTH_ANGLE_B7': 106.070788301, 'MEAN_INCIDENCE_AZIMUTH_ANGLE_B4': 105.710173849, 'MEAN_INCIDENCE_ZENITH_ANGLE_B1': 7.07813750587, 'NOT_VEGETATED_PERCENTAGE': 0.000249, 'MEAN_INCIDENCE_AZIMUTH_ANGLE_B5': 105.840257156, 'RADIOMETRIC_QUALITY': 'PASSED', 'MEAN_INCIDENCE_AZIMUTH_ANGLE_B2': 105.095670819, 'MEAN_INCIDENCE_AZIMUTH_ANGLE_B3': 105.421079446, 'MEAN_INCIDENCE_ZENITH_ANGLE_B5': 6.92966691633, 'MEAN_INCIDENCE_AZIMUTH_ANGLE_B1': 106.318011103, 'MEAN_INCIDENCE_ZENITH_ANGLE_B4': 6.90276361943, 'MEAN_INCIDENCE_ZENITH_ANGLE_B3': 6.86079729404, 'MEAN_INCIDENCE_ZENITH_ANGLE_B2': 6.82807039813, 'MEAN_INCIDENCE_ZENITH_ANGLE_B9': 7.12249640914, 'MEAN_INCIDENCE_ZENITH_ANGLE_B8': 6.84365946894, 'MEAN_INCIDENCE_ZENITH_ANGLE_B7': 6.99762982487, 'DARK_FEATURES_PERCENTAGE': 0.06368, 'HIGH_PROBA_CLOUDS_PERCENTAGE': 96.719748, 'MEAN_INCIDENCE_ZENITH_ANGLE_B6': 6.96297571824, 'UNCLASSIFIED_PERCENTAGE': 0.014543, 'MEAN_SOLAR_ZENITH_ANGLE': 68.1995804206, 'MEAN_INCIDENCE_ZENITH_ANGLE_B8A': 7.03342335877, 'RADIATIVE_TRANSFER_ACCURACY': 0, 'MGRS_TILE': '18TXP', 'CLOUDY_PIXEL_PERCENTAGE': 98.13976, 'PRODUCT_ID': 'S2A_MSIL2A_20181214T154641_N0211_R011_T18TXP_20181214T181045', 'MEAN_INCIDENCE_ZENITH_ANGLE_B10': 6.88608406408, 'SOLAR_IRRADIANCE_B9': 812.92, 'SNOW_ICE_PERCENTAGE': 1.753508, 'DEGRADED_MSI_DATA_PERCENTAGE': 0, 'MEAN_INCIDENCE_ZENITH_ANGLE_B11': 6.95498735853, 'MEAN_INCIDENCE_ZENITH_ANGLE_B12': 7.04669111841, 'SOLAR_IRRADIANCE_B6': 1287.61, 'MEAN_INCIDENCE_AZIMUTH_ANGLE_B10': 105.805509158, 'SOLAR_IRRADIANCE_B5': 1424.64, 'MEAN_INCIDENCE_AZIMUTH_ANGLE_B11': 106.140914199, 'SOLAR_IRRADIANCE_B8': 1041.63, 'MEAN_INCIDENCE_AZIMUTH_ANGLE_B12': 106.429394196, 'SOLAR_IRRADIANCE_B7': 1162.08, 'SOLAR_IRRADIANCE_B2': 1959.72, 'SOLAR_IRRADIANCE_B1': 1884.69, 'SOLAR_IRRADIANCE_B4': 1512.06, 'GEOMETRIC_QUALITY': 'PASSED', 'SOLAR_IRRADIANCE_B3': 1823.24, 'system:asset_size': 1143033488, 'WATER_PERCENTAGE': 0.028266, 'system:index': '20181214T154641_20181214T154636_T18TXP'}}\n"
          ]
        },
        {
          "output_type": "error",
          "ename": "NameError",
          "evalue": "ignored",
          "traceback": [
            "\u001b[0;31m---------------------------------------------------------------------------\u001b[0m",
            "\u001b[0;31mNameError\u001b[0m                                 Traceback (most recent call last)",
            "\u001b[0;32m<ipython-input-130-3acc7d00de21>\u001b[0m in \u001b[0;36m<module>\u001b[0;34m\u001b[0m\n\u001b[1;32m      9\u001b[0m \u001b[0;31m# disp.Image(url=url, width=200)\u001b[0m\u001b[0;34m\u001b[0m\u001b[0;34m\u001b[0m\u001b[0;34m\u001b[0m\u001b[0m\n\u001b[1;32m     10\u001b[0m \u001b[0;31m# ee.Image(S2_AHS_2018_stack.first()).getInfo()\u001b[0m\u001b[0;34m\u001b[0m\u001b[0;34m\u001b[0m\u001b[0;34m\u001b[0m\u001b[0m\n\u001b[0;32m---> 11\u001b[0;31m \u001b[0mMap\u001b[0m\u001b[0;34m.\u001b[0m\u001b[0maddLayer\u001b[0m\u001b[0;34m(\u001b[0m\u001b[0mS2_AHS_2018_stack\u001b[0m\u001b[0;34m.\u001b[0m\u001b[0mfirst\u001b[0m\u001b[0;34m(\u001b[0m\u001b[0;34m)\u001b[0m\u001b[0;34m,\u001b[0m \u001b[0mvisParams\u001b[0m\u001b[0;34m)\u001b[0m\u001b[0;34m;\u001b[0m\u001b[0;34m\u001b[0m\u001b[0;34m\u001b[0m\u001b[0m\n\u001b[0m\u001b[1;32m     12\u001b[0m \u001b[0;31m# ee.Image(S2_AHS_2018_stack.first()).bandNames().getInfo()\u001b[0m\u001b[0;34m\u001b[0m\u001b[0;34m\u001b[0m\u001b[0;34m\u001b[0m\u001b[0m\n",
            "\u001b[0;31mNameError\u001b[0m: name 'Map' is not defined"
          ]
        }
      ]
    },
    {
      "cell_type": "code",
      "metadata": {
        "id": "ALF5YkahTvRl"
      },
      "source": [
        "S1_DC_2019_stack = ee.ImageCollection('COPERNICUS/S1_GRD').filterBounds(aoi_DC).filterDate(ee.Date('2019-10-01'), ee.Date('2019-10-31')) "
      ],
      "execution_count": 77,
      "outputs": []
    },
    {
      "cell_type": "markdown",
      "metadata": {
        "id": "Tcj_XBgDT032"
      },
      "source": [
        "Notice that we have clipped the images to our _aoi_ so as not to work with the entire swath. To confirm that we have an image, we list its band names, fetching the result from the GEE servers with the _getInfo()_ class method:"
      ]
    },
    {
      "cell_type": "code",
      "metadata": {
        "id": "-h-0Jz68T5Tn",
        "outputId": "36fc57c8-481d-45ce-c4f4-48ab4ea74ee3",
        "colab": {
          "base_uri": "https://localhost:8080/"
        }
      },
      "source": [
        "ee.Image(S1_DC_2019_stack.first()).bandNames().getInfo()\n",
        "\n",
        "# ['VV', 'VH', 'angle']\n",
        "# I'm not sure why HH and HV are not here"
      ],
      "execution_count": 78,
      "outputs": [
        {
          "output_type": "execute_result",
          "data": {
            "text/plain": [
              "['VV', 'VH', 'angle']"
            ]
          },
          "metadata": {},
          "execution_count": 78
        }
      ]
    },
    {
      "cell_type": "markdown",
      "metadata": {
        "id": "e6HujXvIT-EC"
      },
      "source": [
        "and display the VV band of the decibel version using the _getThumbURL()_ method and IPython's _display_ module. The float intensities $I$ are generally between 0 and 1, so we stretch the decibel image $10\\log_{10}(I)$ from $-20$ to $0$:"
      ]
    },
    {
      "cell_type": "code",
      "metadata": {
        "id": "gLICx5Y0UCvD",
        "outputId": "529f562a-dde7-44db-8c06-df5a68d51d4d",
        "colab": {
          "base_uri": "https://localhost:8080/",
          "height": 312
        }
      },
      "source": [
        "url = S1_DC_2019_stack.first().clip(aoi_DC).select('VV').getThumbURL({'min': -20, 'max': 0})\n",
        "disp.Image(url=url, width=200)"
      ],
      "execution_count": 70,
      "outputs": [
        {
          "output_type": "execute_result",
          "data": {
            "text/html": [
              "<img src=\"https://earthengine.googleapis.com/v1alpha/projects/earthengine-legacy/thumbnails/9317d6e75ed50447ddf638b8385c87eb-d828183aff8f1adce25af9d0f13e7508:getPixels\" width=\"200\"/>"
            ],
            "text/plain": [
              "<IPython.core.display.Image object>"
            ]
          },
          "metadata": {},
          "execution_count": 70
        }
      ]
    },
    {
      "cell_type": "code",
      "source": [
        "# Install packages for Google Colab\n",
        "%%capture\n",
        "!pip install rasterio\n",
        "!pip install earthpy"
      ],
      "metadata": {
        "id": "QSf9rDmin7qG"
      },
      "execution_count": 71,
      "outputs": []
    },
    {
      "cell_type": "code",
      "source": [
        "import os\n",
        "import matplotlib.pyplot as plt\n",
        "import rasterio as rio\n",
        "from rasterio.plot import plotting_extent\n",
        "import numpy as np\n",
        "import earthpy as et\n",
        "import earthpy.plot as ep"
      ],
      "metadata": {
        "id": "fauOcWXroByO"
      },
      "execution_count": 72,
      "outputs": []
    },
    {
      "cell_type": "code",
      "source": [
        "// First, create function\n",
        "var addEVI = function(image) {\n",
        "  var evi = ee.Image(0).expression(\n",
        "    '2.5 * ((NIR - RED) / (NIR + 6 * RED - 7.5 * BLUE + 1))', {\n",
        "      'NIR': image.select('NIR'),\n",
        "      'RED': image.select('RED'),\n",
        "      'BLUE': image.select('BLUE')\n",
        "    });\n",
        "  return image.addBands(evi.rename('evi'));\n",
        "};\n",
        "\n",
        "// Second, apply function over your collection\n",
        "var mergedEVI = Cloudfiltered.map(addEVI);\n"
      ],
      "metadata": {
        "colab": {
          "base_uri": "https://localhost:8080/",
          "height": 131
        },
        "id": "DwOPQjW2nRRe",
        "outputId": "015a676b-7f7e-43f6-c2d5-ea72691a1c94"
      },
      "execution_count": 74,
      "outputs": [
        {
          "output_type": "error",
          "ename": "SyntaxError",
          "evalue": "ignored",
          "traceback": [
            "\u001b[0;36m  File \u001b[0;32m\"<ipython-input-74-69ac5a37f165>\"\u001b[0;36m, line \u001b[0;32m1\u001b[0m\n\u001b[0;31m    // First, create function\u001b[0m\n\u001b[0m     ^\u001b[0m\n\u001b[0;31mSyntaxError\u001b[0m\u001b[0;31m:\u001b[0m invalid syntax\n"
          ]
        }
      ]
    },
    {
      "cell_type": "markdown",
      "metadata": {
        "id": "yAO0MhD5YuZC"
      },
      "source": [
        "This is fine, but a little boring. We can use _folium_ to project onto a map for geographical context. The _folium_ _Map()_ constructor wants its _location_ keyword in long-lat rather than lat-long, so we do a list reverse in the first line:"
      ]
    },
    {
      "cell_type": "code",
      "metadata": {
        "id": "Z8iPEdmkZPk0",
        "outputId": "0acfe2e1-a88c-4c99-ef22-0d3a92118947",
        "colab": {
          "base_uri": "https://localhost:8080/",
          "height": 712
        }
      },
      "source": [
        "location = aoi.centroid().coordinates().getInfo()[::-1]\n",
        "\n",
        "# Make an RGB color composite image (VV,VH,VV/VH).\n",
        "rgb = ee.Image.rgb(ffa_db.select('VV'),\n",
        "                   ffa_db.select('VH'),\n",
        "                   ffa_db.select('VV').divide(ffa_db.select('VH')))\n",
        "\n",
        "# Create the map object.\n",
        "m = folium.Map(location=location, zoom_start=12)\n",
        "\n",
        "# Add the S1 rgb composite to the map object.\n",
        "m.add_ee_layer(rgb, {'min': [-20, -20, 0], 'max': [0, 0, 2]}, 'FFA')\n",
        "\n",
        "# Add a layer control panel to the map.\n",
        "m.add_child(folium.LayerControl())\n",
        "\n",
        "# Display the map.\n",
        "display(m)"
      ],
      "execution_count": null,
      "outputs": [
        {
          "output_type": "display_data",
          "data": {
            "text/plain": [
              "<folium.folium.Map at 0x7fdec7671790>"
            ],
            "text/html": [
              "<div style=\"width:100%;\"><div style=\"position:relative;width:100%;height:0;padding-bottom:60%;\"><span style=\"color:#565656\">Make this Notebook Trusted to load map: File -> Trust Notebook</span><iframe srcdoc=\"&lt;!DOCTYPE html&gt;\n",
              "&lt;html&gt;\n",
              "&lt;head&gt;\n",
              "    \n",
              "    &lt;meta http-equiv=&quot;content-type&quot; content=&quot;text/html; charset=UTF-8&quot; /&gt;\n",
              "    \n",
              "        &lt;script&gt;\n",
              "            L_NO_TOUCH = false;\n",
              "            L_DISABLE_3D = false;\n",
              "        &lt;/script&gt;\n",
              "    \n",
              "    &lt;style&gt;html, body {width: 100%;height: 100%;margin: 0;padding: 0;}&lt;/style&gt;\n",
              "    &lt;style&gt;#map {position:absolute;top:0;bottom:0;right:0;left:0;}&lt;/style&gt;\n",
              "    &lt;script src=&quot;https://cdn.jsdelivr.net/npm/leaflet@1.6.0/dist/leaflet.js&quot;&gt;&lt;/script&gt;\n",
              "    &lt;script src=&quot;https://code.jquery.com/jquery-1.12.4.min.js&quot;&gt;&lt;/script&gt;\n",
              "    &lt;script src=&quot;https://maxcdn.bootstrapcdn.com/bootstrap/3.2.0/js/bootstrap.min.js&quot;&gt;&lt;/script&gt;\n",
              "    &lt;script src=&quot;https://cdnjs.cloudflare.com/ajax/libs/Leaflet.awesome-markers/2.0.2/leaflet.awesome-markers.js&quot;&gt;&lt;/script&gt;\n",
              "    &lt;link rel=&quot;stylesheet&quot; href=&quot;https://cdn.jsdelivr.net/npm/leaflet@1.6.0/dist/leaflet.css&quot;/&gt;\n",
              "    &lt;link rel=&quot;stylesheet&quot; href=&quot;https://maxcdn.bootstrapcdn.com/bootstrap/3.2.0/css/bootstrap.min.css&quot;/&gt;\n",
              "    &lt;link rel=&quot;stylesheet&quot; href=&quot;https://maxcdn.bootstrapcdn.com/bootstrap/3.2.0/css/bootstrap-theme.min.css&quot;/&gt;\n",
              "    &lt;link rel=&quot;stylesheet&quot; href=&quot;https://maxcdn.bootstrapcdn.com/font-awesome/4.6.3/css/font-awesome.min.css&quot;/&gt;\n",
              "    &lt;link rel=&quot;stylesheet&quot; href=&quot;https://cdnjs.cloudflare.com/ajax/libs/Leaflet.awesome-markers/2.0.2/leaflet.awesome-markers.css&quot;/&gt;\n",
              "    &lt;link rel=&quot;stylesheet&quot; href=&quot;https://cdn.jsdelivr.net/gh/python-visualization/folium/folium/templates/leaflet.awesome.rotate.min.css&quot;/&gt;\n",
              "    \n",
              "            &lt;meta name=&quot;viewport&quot; content=&quot;width=device-width,\n",
              "                initial-scale=1.0, maximum-scale=1.0, user-scalable=no&quot; /&gt;\n",
              "            &lt;style&gt;\n",
              "                #map_7020afd6e493779cf80fcf62d8232093 {\n",
              "                    position: relative;\n",
              "                    width: 100.0%;\n",
              "                    height: 100.0%;\n",
              "                    left: 0.0%;\n",
              "                    top: 0.0%;\n",
              "                }\n",
              "            &lt;/style&gt;\n",
              "        \n",
              "&lt;/head&gt;\n",
              "&lt;body&gt;\n",
              "    \n",
              "    \n",
              "            &lt;div class=&quot;folium-map&quot; id=&quot;map_7020afd6e493779cf80fcf62d8232093&quot; &gt;&lt;/div&gt;\n",
              "        \n",
              "&lt;/body&gt;\n",
              "&lt;script&gt;\n",
              "    \n",
              "    \n",
              "            var map_7020afd6e493779cf80fcf62d8232093 = L.map(\n",
              "                &quot;map_7020afd6e493779cf80fcf62d8232093&quot;,\n",
              "                {\n",
              "                    center: [50.02076448259734, 8.566246032714204],\n",
              "                    crs: L.CRS.EPSG3857,\n",
              "                    zoom: 12,\n",
              "                    zoomControl: true,\n",
              "                    preferCanvas: false,\n",
              "                }\n",
              "            );\n",
              "\n",
              "            \n",
              "\n",
              "        \n",
              "    \n",
              "            var tile_layer_ee16efdb2e0d236f1167d9aa1f5974c1 = L.tileLayer(\n",
              "                &quot;https://{s}.tile.openstreetmap.org/{z}/{x}/{y}.png&quot;,\n",
              "                {&quot;attribution&quot;: &quot;Data by \\u0026copy; \\u003ca href=\\&quot;http://openstreetmap.org\\&quot;\\u003eOpenStreetMap\\u003c/a\\u003e, under \\u003ca href=\\&quot;http://www.openstreetmap.org/copyright\\&quot;\\u003eODbL\\u003c/a\\u003e.&quot;, &quot;detectRetina&quot;: false, &quot;maxNativeZoom&quot;: 18, &quot;maxZoom&quot;: 18, &quot;minZoom&quot;: 0, &quot;noWrap&quot;: false, &quot;opacity&quot;: 1, &quot;subdomains&quot;: &quot;abc&quot;, &quot;tms&quot;: false}\n",
              "            ).addTo(map_7020afd6e493779cf80fcf62d8232093);\n",
              "        \n",
              "    \n",
              "            var tile_layer_7bb2e1fad08ca272a1be8059a631545c = L.tileLayer(\n",
              "                &quot;https://earthengine.googleapis.com/v1alpha/projects/earthengine-legacy/maps/7970bd23b896b7ca4d37eedd94ed90fd-8a05e3dc01bc27e10dd942f5b6b63b47/tiles/{z}/{x}/{y}&quot;,\n",
              "                {&quot;attribution&quot;: &quot;Map Data \\u0026copy; \\u003ca href=\\&quot;https://earthengine.google.com/\\&quot;\\u003eGoogle Earth Engine\\u003c/a\\u003e&quot;, &quot;detectRetina&quot;: false, &quot;maxNativeZoom&quot;: 18, &quot;maxZoom&quot;: 18, &quot;minZoom&quot;: 0, &quot;noWrap&quot;: false, &quot;opacity&quot;: 1, &quot;subdomains&quot;: &quot;abc&quot;, &quot;tms&quot;: false}\n",
              "            ).addTo(map_7020afd6e493779cf80fcf62d8232093);\n",
              "        \n",
              "    \n",
              "            var layer_control_3d065a5b18a9a077ab6f55a61dd0b30c = {\n",
              "                base_layers : {\n",
              "                    &quot;openstreetmap&quot; : tile_layer_ee16efdb2e0d236f1167d9aa1f5974c1,\n",
              "                },\n",
              "                overlays :  {\n",
              "                    &quot;FFA&quot; : tile_layer_7bb2e1fad08ca272a1be8059a631545c,\n",
              "                },\n",
              "            };\n",
              "            L.control.layers(\n",
              "                layer_control_3d065a5b18a9a077ab6f55a61dd0b30c.base_layers,\n",
              "                layer_control_3d065a5b18a9a077ab6f55a61dd0b30c.overlays,\n",
              "                {&quot;autoZIndex&quot;: true, &quot;collapsed&quot;: true, &quot;position&quot;: &quot;topright&quot;}\n",
              "            ).addTo(map_7020afd6e493779cf80fcf62d8232093);\n",
              "        \n",
              "&lt;/script&gt;\n",
              "&lt;/html&gt;\" style=\"position:absolute;width:100%;height:100%;left:0;top:0;border:none !important;\" allowfullscreen webkitallowfullscreen mozallowfullscreen></iframe></div></div>"
            ]
          },
          "metadata": {}
        }
      ]
    },
    {
      "cell_type": "markdown",
      "metadata": {
        "id": "-k9V1U0JUTd7"
      },
      "source": [
        "### Pixel distributions\n",
        "\n",
        "In order to examine the statistics of the pixels in this image empirically, we'll need samples from a featureless (textureless) spatial subset. Here is a polygon covering the triangular wooded area just east of the north-south runway:"
      ]
    },
    {
      "cell_type": "code",
      "metadata": {
        "id": "zNhZRKV4UX51"
      },
      "source": [
        "geoJSON = {\n",
        "  \"type\": \"FeatureCollection\",\n",
        "  \"features\": [\n",
        "    {\n",
        "      \"type\": \"Feature\",\n",
        "      \"properties\": {},\n",
        "      \"geometry\": {\n",
        "        \"type\": \"Polygon\",\n",
        "        \"coordinates\": [\n",
        "          [\n",
        "            [\n",
        "              8.534317016601562,\n",
        "              50.021637833966786\n",
        "            ],\n",
        "            [\n",
        "              8.530540466308594,\n",
        "              49.99780882512238\n",
        "            ],\n",
        "            [\n",
        "              8.564186096191406,\n",
        "              50.00663576154257\n",
        "            ],\n",
        "            [\n",
        "              8.578605651855469,\n",
        "              50.019431940583104\n",
        "            ],\n",
        "            [\n",
        "              8.534317016601562,\n",
        "              50.021637833966786\n",
        "            ]\n",
        "          ]\n",
        "        ]\n",
        "      }\n",
        "    }\n",
        "  ]\n",
        "}\n",
        "coords = geoJSON['features'][0]['geometry']['coordinates']\n",
        "aoi_sub = ee.Geometry.Polygon(coords)"
      ],
      "execution_count": null,
      "outputs": []
    },
    {
      "cell_type": "markdown",
      "metadata": {
        "id": "iMnUgrxvUfte"
      },
      "source": [
        "Using standard reducers from the GEE library we can easily calculate a histogram and estimate the first two moments (mean and variance) of the pixels in the polygon _aoi\\_sub_ , again retrieving the results from the servers with _getInfo()_ ."
      ]
    },
    {
      "cell_type": "code",
      "metadata": {
        "id": "KfjUo-FyUklG"
      },
      "source": [
        "hist = ffa_fl.select('VV').reduceRegion(\n",
        "    ee.Reducer.fixedHistogram(0, 0.5, 500),aoi_sub).get('VV').getInfo()\n",
        "mean = ffa_fl.select('VV').reduceRegion(\n",
        "    ee.Reducer.mean(), aoi_sub).get('VV').getInfo()\n",
        "variance = ffa_fl.select('VV').reduceRegion(\n",
        "    ee.Reducer.variance(), aoi_sub).get('VV').getInfo()"
      ],
      "execution_count": null,
      "outputs": []
    },
    {
      "cell_type": "markdown",
      "metadata": {
        "id": "AcC98FbvUpmz"
      },
      "source": [
        "Here is a plot of the (normalized) histogram using _numpy_ and _matplotlib_ :"
      ]
    },
    {
      "cell_type": "code",
      "metadata": {
        "id": "pMgsrzHHUuSX"
      },
      "source": [
        "a = np.array(hist)\n",
        "x = a[:, 0]                 # array of bucket edge positions\n",
        "y = a[:, 1]/np.sum(a[:, 1]) # normalized array of bucket contents\n",
        "plt.grid()\n",
        "plt.plot(x, y, '.')\n",
        "plt.show()"
      ],
      "execution_count": null,
      "outputs": []
    },
    {
      "cell_type": "markdown",
      "metadata": {
        "id": "2zyPzJOzU16A"
      },
      "source": [
        "The above histogram is in fact a _gamma probability density distribution_ \n",
        "\n",
        "$$\n",
        "p_{\\gamma;\\alpha,\\beta}(x) = {1\\over \\beta^\\alpha\\Gamma(\\alpha)}x^{\\alpha-1}e^{-x/\\beta},\\quad {\\rm mean}(x) = \\alpha\\beta,\\quad {\\rm var}(x) = \\alpha\\beta^2 \\tag{1.1}\n",
        "$$\n",
        "where\n",
        "$$\n",
        "\\Gamma(\\alpha) = \\int_0^\\infty z^{\\alpha-1}e^{-z} dz.\n",
        "$$\n",
        "\n",
        "The parameters are in this case $\\alpha = 5$ and $\\beta = {\\mu}/\\alpha$, where $\\mu$ is the estimated mean value we just determined with _ee.Reducer.mean()_. \n",
        "This can easily be verified by plotting the gamma distribution _gamma.pdf()_ and overlaying it onto the histogram. Since the bucket widths are 0.001, we have to divide the plot by 1000."
      ]
    },
    {
      "cell_type": "code",
      "metadata": {
        "id": "2vQjpWmJU9jf"
      },
      "source": [
        "alpha = 5\n",
        "beta = mean/alpha\n",
        "plt.grid()\n",
        "plt.plot(x, y, '.', label='data')\n",
        "plt.plot(x, gamma.pdf(x, alpha, 0, beta)/1000, '-r', label='gamma')\n",
        "plt.legend()\n",
        "plt.show()"
      ],
      "execution_count": null,
      "outputs": []
    },
    {
      "cell_type": "markdown",
      "metadata": {
        "id": "dDs648j5VDR9"
      },
      "source": [
        "In order to understand just why this is the case, let's take a step back and consider how the pixels were generated."
      ]
    },
    {
      "cell_type": "markdown",
      "metadata": {
        "id": "vvsqOV76adxT"
      },
      "source": [
        "\n",
        "### Single look complex (SLC) SAR measurements\n",
        "The Sentinel-1 platform is a dual polarimetric synthetic aperture radar system, emitting radar microwaves in the C-band with one polarization (vertical in most cases) and recording both vertical and horizontal reflected polarizations. This is represented mathematically as\n",
        "\n",
        "$$\n",
        "\\pmatrix{E_v^b\\cr E_h^b} = {e^{-{\\bf i}rk}\\over r}\\pmatrix{S_{vv} & S_{vh}\\cr S_{hv} & S_{hh}}\\pmatrix{E_v^i\\cr 0}. \\tag{1.2}\n",
        "$$\n",
        "\n",
        "The incident, vertically polarized radar signal $\\pmatrix{E_v^i\\cr 0}$ is transformed by a complex _scattering matrix_ $\\pmatrix{S_{vv} & S_{vh}\\cr S_{hv} & S_{hh}}$ into the backscattered signal $\\pmatrix{E_v^b\\cr E_h^b}$ having both vertical and horizontal polarization components. The exponent term accounts for the phase shift due to the return distance $r$ from target to sensor, where $k$ is the wave number, $k=2\\pi/\\lambda$. From measurement of the backscattered radiation at the sensor, two of the four complex scattering matrix elements can be derived and processed into two-dimensional (slant range $\\times$ azimuth) arrays, comprising the so-called _single look complex_ image. Written as a complex vector, the two derived elements are\n",
        " \n",
        "$$\n",
        "S = \\pmatrix{S_{vv}\\cr S_{vh}}.          \\tag{1.3}\n",
        "$$\n",
        "\n",
        "We write the complex transpose of the vector $S$ as $S^\\dagger = (S_{vv}^*\\ S_{vh}^*)$, where the $^*$ denotes complex conjugation. The inner product of $S$ with itself is the total power (also referred to as the _span_ image)\n",
        "\n",
        "$$\n",
        "P = S^\\dagger S = (S_{vv}^*\\ S_{vh}^*)\\pmatrix{S_{vv}\\cr S_{vh}} = |S_{vv}|^2 + |S_{vh}|^2 \\tag{1.4}\n",
        "$$\n",
        "\n",
        "and the outer product is the (dual pol) _covariance matrix image_\n",
        "\n",
        "$$\n",
        "C2 = SS^\\dagger = \\pmatrix{S_{vv}\\cr S_{vh}}(S_{vv}^*\\ S_{vh}^*) = \\pmatrix{|S_{vv}|^2 & S_{vv}^*S_{vh} \\cr S_{vh}^*S_{vv} & |S_{vh}|^2}. \\tag{1.5}\n",
        "$$\n",
        "\n",
        "The diagonal elements are real numbers, the off-diagonal elements are complex conjugates of each other and contain the relative phases of the $S_{vv}$ and $S_{vh}$ components. The off-diagonal elements are not available for S1 archived imagery in GEE, so that if we nevertheless choose to represent the data in covariance matrix form, the matrix is diagonal: \n",
        "\n",
        "$$\n",
        "C2 = \\pmatrix{|S_{vv}|^2 & 0 \\cr 0 & |S_{vh}|^2}, \\tag{1.6a}\n",
        "$$\n",
        "\n",
        "In terms of radar scattering cross sections (sigma nought),\n",
        "\n",
        "$$\n",
        "C2 = {1\\over 4\\pi}\\pmatrix{\\sigma^o_{vv}  & 0 \\cr 0 & \\sigma^o_{vh}}. \\tag{1.6b}\n",
        "$$\n"
      ]
    },
    {
      "cell_type": "markdown",
      "metadata": {
        "id": "eCkMh76EGnrD"
      },
      "source": [
        "### Speckle\n",
        "\n",
        "The most striking characteristic of SAR images, when compared to their visual/infrared\n",
        "counterparts, is the disconcerting _speckle_ effect which makes visual interpretation very\n",
        "difficult. Speckle gives the appearance of random noise, but\n",
        "it is actually a deterministic consequence of the coherent nature of the radar signal.\n",
        "\n",
        "For single polarization transmission and reception, e.g., vertical-vertical ($vv$), the received SLC signal can be modelled in the form\n",
        "\n",
        "$$\n",
        "S_{vv} = {|S^a_{vv}|\\over\\sqrt{n}}\\sum_{k=1}^n e^{{\\bf i}\\phi_k}, \\tag{1.7}\n",
        "$$\n",
        "\n",
        "where $|S^a_{vv}|$ is the overall amplitude characterizing the signal scattered from the  area covered by a single pixel, e.g., $10\\times 10\\ m^2$ for our S1 data,  with the phase set equal to zero for convenience. The effects of randomly distributed scatterers within the irradiated area, with dimensions  of the order of the incident wavelength  5.6 cm (for Sentinel-1), add coherently and introduce a change in phase of the  received signal. This is indicated by the sum term in the above equation. The effect varies from pixel to pixel and gives rise to speckle. \n",
        "\n",
        "If we expand Eq. (1.7) into its real and imaginary parts, we can understand it better:\n",
        "\n",
        "$$\n",
        "S_{vv} = {|S^a_{vv}|\\over\\sqrt{n}}\\sum_{k=1}^n e^{{\\bf i}\\phi_k} = {|S^a_{vv}|\\over\\sqrt{n}}\\left(\\sum_k\\cos\\phi_k + {\\bf i}\\sum_k\\sin\\phi_k\\right) =  {|S^a_{vv}|\\over\\sqrt{n}}(x + {\\bf i}y) \\tag{1.8}\n",
        "$$\n",
        "\n",
        "where\n",
        "\n",
        "$$\n",
        "x = \\sum_k\\cos\\phi_k, \\quad y = \\sum_k\\sin\\phi_k.\n",
        "$$\n",
        "\n",
        "Because the phase shifts $\\phi_k$ are randomly and uniformly distributed, the variables $x$ and $y$ are sums of identically distributed cosine and sine terms respectively. The __Central Limit Theorem__ of statistics then says that $x$ and $y$ will have a normal distribution with zero mean and variance $\\sigma^2 =n/2$ in the limit of large number $n$ of scatterers. We can verify this with a simple piece of code in which we set $n=10000$:"
      ]
    },
    {
      "cell_type": "code",
      "metadata": {
        "id": "jGx_jHFSanpR"
      },
      "source": [
        "def X(n):\n",
        "    return np.sum(np.cos(4*np.pi*(np.random.rand(n)-0.5)))/np.sqrt(n/2)\n",
        "\n",
        "n= 10000\n",
        "Xs = [X(n) for i in range(10000)]\n",
        "y, x = np.histogram(Xs, 100, range=[-5,5])\n",
        "plt.plot(x[:-1], y/1000, 'b.', label='simulated data')\n",
        "plt.plot(x, norm.pdf(x), '-r', label='normal distribution')\n",
        "plt.grid()\n",
        "plt.legend()\n",
        "plt.show()"
      ],
      "execution_count": null,
      "outputs": []
    },
    {
      "cell_type": "markdown",
      "metadata": {
        "id": "5Po6uERXauAB"
      },
      "source": [
        "Furthermore, $x$ and $y$ are uncorrelated since, in the expression for covariance of $x$ and $y$, the sums of products of cosine and sine terms cancel to zero. This means that  $x + {\\bf i}y$, and hence the observed single look complex signal $S_{vv}$ (see Eq. (1.8)), has a _complex normal distribution_ .\n",
        "\n",
        "Now what about the pixels values in the Sentinel-1 VV intensity images? They are given by the square of the amplitude of $S_{vv}$,\n",
        "\n",
        "$$\n",
        "|S_{vv}|^2 = S_{vv}S^*_{vv} = {|S^a_{vv}|^2\\over n}(x^2+y^2). \\tag{1.9}\n",
        "$$\n",
        "\n",
        "(Actually averages of the above, as we'll see later.) We can write this in the form\n",
        "\n",
        "$$\n",
        "|S_{vv}|^2 =  {|S^a_{vv}|^2\\over n}{n\\over 2}\\left({x^2\\over n/2}+{y^2\\over n/2}\\right) = |S^a_{vv}|^2{u\\over 2}, \\tag{1.10}\n",
        "$$\n",
        "\n",
        "where \n",
        "\n",
        "$$\n",
        "u = \\left({x^2\\over n/2}+{y^2\\over n/2}\\right) \\tag{1.11}\n",
        "$$\n",
        "\n",
        "is the sum of the squares of two variables with independent standard normal distributions. Applying the  \n",
        "\n",
        "   - __Theorem:__ If the measurements $x_i,\\ i=1\\dots m$, are independent and standard normally distributed (i.e., with mean $0$ and variance $1$), then the variable $x=\\sum_{i=1}^m x_i^2$ is  chi-square distributed with $m$ degrees of freedom, given by\n",
        "\n",
        "$$\n",
        "p_{\\chi^2;m}(x)={1 \\over 2^{m/2}\\Gamma(m/2)} z^{(m-2)/2} e^{-x/2},\\quad {\\rm mean}(x)=m,\\quad {\\rm var}(x) = 2m. \\tag{1.12}\n",
        "$$\n",
        "\n",
        "we see that $u$ is chi-square distributed with degrees of freedom $m=2$,\n",
        "\n",
        "$$\n",
        "p_u(u) = {1\\over 2}e^{-u/2} \\tag{1.13}\n",
        "$$\n",
        "\n",
        "since $\\Gamma(1)=1$.\n",
        "\n",
        "To simplify the notation, let $s=|S_{vv}|^2 $ and  $a=|S^a_{vv}|^2$. Then from (1.10)\n",
        "\n",
        "$$\n",
        "s = a{u\\over 2} \\tag{1.14}\n",
        "$$\n",
        "\n",
        "To get the distribution $p_s(s)$ of the observed signal from the distribution of $u$, we apply the standard transformation formula\n",
        "\n",
        "$$\n",
        "p_s(s) = p_u(u)\\left|{du\\over ds}\\right| = {1\\over 2}e^{-u/2}{2\\over a} = {1\\over a} e^{-s/a}. \\tag{1.15}\n",
        "$$\n",
        "\n",
        "Compare this with the definition of the _exponential probability distribution_\n",
        "\n",
        "$$\n",
        "p_{e;\\beta}(x) = {1\\over\\beta}e^{-x/\\beta},\\quad {\\rm mean}(x) = \\beta,\\quad {\\rm var}(x) = \\beta. \\tag{1.16}\n",
        "$$\n",
        "\n",
        "We conclude that the measured intensity signal $s=|S_{vv}|^2$ has an exponential distribution with mean and variance equal to the underlying signal strength $a=|S^a_{vv}|^2$.\n",
        "\n",
        "So far so good, however we still haven't quite characterized the statistics of the pixels in the intensity bands of the Sentinel-1 images. \n"
      ]
    },
    {
      "cell_type": "markdown",
      "metadata": {
        "id": "a1gYVejHb7jd"
      },
      "source": [
        "### Multi-look SAR statistics\n",
        "\n",
        "Multi-look processing essentially corresponds to the averaging of neighborhood pixels with the objective\n",
        "of reducing speckle and compressing the data. In practice, the averaging is often not performed in the\n",
        "spatial domain, but rather in the frequency domain during range/azimuth compression of the received signal. \n",
        "\n",
        "Look averaging takes place at the cost of spatial resolution. The spatial resolution attainable with SAR satellite platforms  involves, among many other considerations, a compromise between azimuthal resolution and swath width, see  [Moreira et al. (2013)](https://elib.dlr.de/82313/) for a good discussion. In the Sentinel-1 _Interferometric Wide Swath_ acquisition mode, the pixels are about 20m $\\times$ 4m (azimuth $\\times$ range) in extent and the swath widths are about 250km. For the multi-looking procedure, five cells are incoherently averaged in the range direction to achieve approx. $20m \\times 20m$ resolution. The pixels are then resampled to $10\\times 10\\ m^2$. (Note that spatial resolution is a measure of the system's ability to distinguish between adjacent targets while pixel spacing is the distance between adjacent pixels in an image, measured in metres.) The look averaging process, which we can symbolize using angular brackets as $\\langle |S_{vv}|^2 \\rangle$ or $\\langle |S_{vh}|^2 \\rangle$, has the desirable effect of reducing speckle (at the cost of resolution) in the intensity images. We can see this as follows, first quoting another well-known Theorem in statistics:\n",
        "\n",
        "   - __Theorem:__ If the quantities $s_i,\\ i=1\\dots m,$ are independent and each have exponential distributions given by Eq. (1.16), then $x = \\sum_{i=1}^m s_i$ has the gamma distribution Eq. (1.1) with $\\alpha=m,\\ \\beta=a$. Its mean is $\\alpha\\beta =ma$ and its variance is $\\alpha\\beta^2 = ma^2.$\n",
        "\n",
        "Again with the notation $s=|S_{vv}|^2 $ and  $a=|S^a_{vv}|^2$, if intensity measurements $s$ are summed over $m$ looks to give $\\sum_{i=1}^m s_i$, then according to this Theorem  the sum (not the average!) will be gamma distributed with $\\alpha= m$ and $\\beta=a$, provided the $s_i$ are independent. The look-averaged image is\n",
        "\n",
        "$$\n",
        "\\langle s\\rangle = {1\\over m}\\sum_{i=1}^m s_i \\tag{1.17}\n",
        "$$\n",
        "\n",
        "and its mean value is\n",
        "\n",
        "$$\n",
        "{\\rm mean}(\\langle s\\rangle) = {1\\over m}\\sum_{i=1}^m {\\rm mean}(s_i) = {1\\over m}\\sum_{i=1}^m a = a. \\tag{1.18}\n",
        "$$\n",
        "\n",
        "Now we see that the histogram of the Sentinel-1 multi-look image $\\langle s\\rangle =\\langle |S_{vv}|^2 \\rangle$ follows a gamma distribution with the parameters \n",
        "\n",
        "$$\n",
        "\\alpha=m,\\quad \\beta' = {a\\over m} = {{\\rm mean}(\\langle s\\rangle)\\over m}, \\tag{1.19}\n",
        "$$\n",
        "\n",
        "as we demonstrated earlier with the measured histogram.\n",
        "\n",
        "The covariance representation of the dual pol multilook images is \n",
        "\n",
        "$$\n",
        "C2 = \\pmatrix{\\langle|S_{vv}|^2\\rangle & 0 \\cr 0 & \\langle|S_{vh}|^2\\rangle}. \\tag{1.20}\n",
        "$$\n",
        "\n",
        "\n",
        "### Equivalent number of looks\n",
        "\n",
        "The variance of $\\langle s\\rangle$ is given by\n",
        "\n",
        "$$\n",
        "{\\rm var}(\\langle s\\rangle) = {1\\over m^2}{\\rm var}(\\sum_{i=1}^m s_i)= {1\\over m^2}ma^2 = {a^2\\over m}, \\tag{1.21}\n",
        "$$\n",
        "\n",
        "where we have used the fact that the variance of the gamma distribution is $\\alpha\\beta'^2=ma^2$. Thus the variance of the look-averaged image, the speckle effect, decreases inversely with the number of looks.\n",
        "\n",
        "\n",
        "In practice, the neighborhood pixel intensities contributing to the look average will not be completely independent, but correlated to some extent. This is accounted for by defining an _equivalent number of looks_\n",
        "(ENL) whose definition is motivated by Eq. (1.21), that is,\n",
        "\n",
        "$$\n",
        "{\\rm ENL} = {a^2\\over {\\rm var}(\\langle s\\rangle)} = {{\\rm mean}(\\langle s\\rangle)^2\\over {\\rm var}(\\langle s\\rangle)}.\\tag{1.22}\n",
        "$$\n",
        "\n",
        "In general it will be smaller than $m$. Let's see what we get for our subset of the airport image:"
      ]
    },
    {
      "cell_type": "code",
      "metadata": {
        "id": "3FIc22YZbI95"
      },
      "source": [
        "mean ** 2 / variance"
      ],
      "execution_count": null,
      "outputs": []
    },
    {
      "cell_type": "markdown",
      "metadata": {
        "id": "hMrNjW56bNXF"
      },
      "source": [
        "The value given by the provider (ESA) for the IW mode imagery in the GEE archive is ENL = 4.4, an average over all swaths, so our spatial subset seems to be fairly representative.\n",
        "\n",
        "### Outlook\n",
        "\n",
        "Now we have a good idea of the statistics of the Sentinel-1 images on the GEE. In [Part 2](https://developers.google.com/earth-engine/tutorials/community/detecting-changes-in-sentinel-1-imagery-pt-2) of the Tutorial we will discuss statistical methods to detect changes in two Sentinel-1 images acquired at different times."
      ]
    }
  ]
}